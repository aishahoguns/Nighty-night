{
    "cells": [
     {
      "cell_type": "code",
      "execution_count": 80,
      "metadata": {},
      "outputs": [],
      "source": [
       "import pandas as pd\n",
       "import numpy as np\n",
       "from sklearn.preprocessing import StandardScaler\n",
       "from sklearn.model_selection import train_test_split\n",
       "from sklearn.ensemble import AdaBoostRegressor, RandomForestRegressor\n",
       "from sklearn.tree import DecisionTreeRegressor\n",
       "from xgboost import XGBRegressor\n",
       "from sklearn.preprocessing import OneHotEncoder"
      ]
     },
     {
      "cell_type": "code",
      "execution_count": 7,
      "metadata": {},
      "outputs": [],
      "source": [
       "df = pd.read_csv('data/stud (1).csv')"
      ]
     },
     {
      "cell_type": "code",
      "execution_count": 8,
      "metadata": {},
      "outputs": [
       {
        "data": {
         "text/html": [
          "<div>\n",
          "<style scoped>\n",
          "    .dataframe tbody tr th:only-of-type {\n",
          "        vertical-align: middle;\n",
          "    }\n",
          "\n",
          "    .dataframe tbody tr th {\n",
          "        vertical-align: top;\n",
          "    }\n",
          "\n",
          "    .dataframe thead th {\n",
          "        text-align: right;\n",
          "    }\n",
          "</style>\n",
          "<table border=\"1\" class=\"dataframe\">\n",
          "  <thead>\n",
          "    <tr style=\"text-align: right;\">\n",
          "      <th></th>\n",
          "      <th>gender</th>\n",
          "      <th>race_ethnicity</th>\n",
          "      <th>parental_level_of_education</th>\n",
          "      <th>lunch</th>\n",
          "      <th>test_preparation_course</th>\n",
          "      <th>math_score</th>\n",
          "      <th>reading_score</th>\n",
          "      <th>writing_score</th>\n",
          "    </tr>\n",
          "  </thead>\n",
          "  <tbody>\n",
          "    <tr>\n",
          "      <th>0</th>\n",
          "      <td>female</td>\n",
          "      <td>group B</td>\n",
          "      <td>bachelor's degree</td>\n",
          "      <td>standard</td>\n",
          "      <td>none</td>\n",
          "      <td>72</td>\n",
          "      <td>72</td>\n",
          "      <td>74</td>\n",
          "    </tr>\n",
          "    <tr>\n",
          "      <th>1</th>\n",
          "      <td>female</td>\n",
          "      <td>group C</td>\n",
          "      <td>some college</td>\n",
          "      <td>standard</td>\n",
          "      <td>completed</td>\n",
          "      <td>69</td>\n",
          "      <td>90</td>\n",
          "      <td>88</td>\n",
          "    </tr>\n",
          "    <tr>\n",
          "      <th>2</th>\n",
          "      <td>female</td>\n",
          "      <td>group B</td>\n",
          "      <td>master's degree</td>\n",
          "      <td>standard</td>\n",
          "      <td>none</td>\n",
          "      <td>90</td>\n",
          "      <td>95</td>\n",
          "      <td>93</td>\n",
          "    </tr>\n",
          "    <tr>\n",
          "      <th>3</th>\n",
          "      <td>male</td>\n",
          "      <td>group A</td>\n",
          "      <td>associate's degree</td>\n",
          "      <td>free/reduced</td>\n",
          "      <td>none</td>\n",
          "      <td>47</td>\n",
          "      <td>57</td>\n",
          "      <td>44</td>\n",
          "    </tr>\n",
          "    <tr>\n",
          "      <th>4</th>\n",
          "      <td>male</td>\n",
          "      <td>group C</td>\n",
          "      <td>some college</td>\n",
          "      <td>standard</td>\n",
          "      <td>none</td>\n",
          "      <td>76</td>\n",
          "      <td>78</td>\n",
          "      <td>75</td>\n",
          "    </tr>\n",
          "  </tbody>\n",
          "</table>\n",
          "</div>"
         ],
         "text/plain": [
          "   gender race_ethnicity parental_level_of_education         lunch  \\\n",
          "0  female        group B           bachelor's degree      standard   \n",
          "1  female        group C                some college      standard   \n",
          "2  female        group B             master's degree      standard   \n",
          "3    male        group A          associate's degree  free/reduced   \n",
          "4    male        group C                some college      standard   \n",
          "\n",
          "  test_preparation_course  math_score  reading_score  writing_score  \n",
          "0                    none          72             72             74  \n",
          "1               completed          69             90             88  \n",
          "2                    none          90             95             93  \n",
          "3                    none          47             57             44  \n",
          "4                    none          76             78             75  "
         ]
        },
        "execution_count": 8,
        "metadata": {},
        "output_type": "execute_result"
       }
      ],
      "source": [
       "df.head()"
      ]
     },
     {
      "cell_type": "code",
      "execution_count": 6,
      "metadata": {},
      "outputs": [],
      "source": [
       "X = df.drop(columns=['math_score'], axis=1)\n",
       "y = df['math_score']"
      ]
     },
     {
      "cell_type": "code",
      "execution_count": 9,
      "metadata": {},
      "outputs": [
       {
        "name": "stdout",
        "output_type": "stream",
        "text": [
         "<class 'pandas.core.frame.DataFrame'>\n",
         "RangeIndex: 1000 entries, 0 to 999\n",
         "Data columns (total 8 columns):\n",
         " #   Column                       Non-Null Count  Dtype \n",
         "---  ------                       --------------  ----- \n",
         " 0   gender                       1000 non-null   object\n",
         " 1   race_ethnicity               1000 non-null   object\n",
         " 2   parental_level_of_education  1000 non-null   object\n",
         " 3   lunch                        1000 non-null   object\n",
         " 4   test_preparation_course      1000 non-null   object\n",
         " 5   math_score                   1000 non-null   int64 \n",
         " 6   reading_score                1000 non-null   int64 \n",
         " 7   writing_score                1000 non-null   int64 \n",
         "dtypes: int64(3), object(5)\n",
         "memory usage: 62.6+ KB\n"
        ]
       }
      ],
      "source": [
       "df.info()"
      ]
     },
     {
      "cell_type": "code",
      "execution_count": 63,
      "metadata": {},
      "outputs": [],
      "source": [
       "num_features= X.select_dtypes('int').columns.to_list()\n",
       "cat_features = X.select_dtypes('object').columns.to_list()"
      ]
     },
     {
      "cell_type": "code",
      "execution_count": 65,
      "metadata": {},
      "outputs": [
       {
        "data": {
         "text/plain": [
          "['reading_score', 'writing_score']"
         ]
        },
        "execution_count": 65,
        "metadata": {},
        "output_type": "execute_result"
       }
      ],
      "source": [
       "num_features"
      ]
     },
     {
      "cell_type": "code",
      "execution_count": 66,
      "metadata": {},
      "outputs": [
       {
        "data": {
         "text/plain": [
          "['gender',\n",
          " 'race_ethnicity',\n",
          " 'parental_level_of_education',\n",
          " 'lunch',\n",
          " 'test_preparation_course']"
         ]
        },
        "execution_count": 66,
        "metadata": {},
        "output_type": "execute_result"
       }
      ],
      "source": [
       "cat_features"
      ]
     },
     {
      "cell_type": "code",
      "execution_count": 64,
      "metadata": {},
      "outputs": [],
      "source": [
       "from sklearn.compose import ColumnTransformer"
      ]
     },
     {
      "cell_type": "code",
      "execution_count": 67,
      "metadata": {},
      "outputs": [],
      "source": [
       "num_transformer = StandardScaler()\n",
       "oh_transformer = OneHotEncoder()"
      ]
     },
     {
      "cell_type": "code",
      "execution_count": 68,
      "metadata": {},
      "outputs": [],
      "source": [
       "preprocessor = ColumnTransformer(\n",
       "    [\n",
       "        ('OneHotEncoder', oh_transformer, cat_features),\n",
       "        ('StandardScaler', num_transformer,num_features)\n",
       "    ]\n",
       ")"
      ]
     },
     {
      "cell_type": "code",
      "execution_count": 70,
      "metadata": {},
      "outputs": [],
      "source": [
       "X1=  preprocessor.fit_transform(X)"
      ]
     },
     {
      "cell_type": "code",
      "execution_count": 71,
      "metadata": {},
      "outputs": [
       {
        "data": {
         "text/plain": [
          "array([[ 1.        ,  0.        ,  0.        , ...,  1.        ,\n",
          "         0.19399858,  0.39149181],\n",
          "       [ 1.        ,  0.        ,  0.        , ...,  0.        ,\n",
          "         1.42747598,  1.31326868],\n",
          "       [ 1.        ,  0.        ,  0.        , ...,  1.        ,\n",
          "         1.77010859,  1.64247471],\n",
          "       ...,\n",
          "       [ 1.        ,  0.        ,  0.        , ...,  0.        ,\n",
          "         0.12547206, -0.20107904],\n",
          "       [ 1.        ,  0.        ,  0.        , ...,  0.        ,\n",
          "         0.60515772,  0.58901542],\n",
          "       [ 1.        ,  0.        ,  0.        , ...,  1.        ,\n",
          "         1.15336989,  1.18158627]])"
         ]
        },
        "execution_count": 71,
        "metadata": {},
        "output_type": "execute_result"
       }
      ],
      "source": [
       "X1"
      ]
     },
     {
      "cell_type": "code",
      "execution_count": 72,
      "metadata": {},
      "outputs": [],
      "source": [
       "X_train, X_test, y_train,y_test = train_test_split(X1,y,test_size=0.2, random_state=42)"
      ]
     },
     {
      "cell_type": "code",
      "execution_count": 88,
      "metadata": {},
      "outputs": [],
      "source": [
       "from sklearn.metrics import mean_absolute_error,mean_squared_error,r2_score,root_mean_squared_error"
      ]
     },
     {
      "cell_type": "code",
      "execution_count": 89,
      "metadata": {},
      "outputs": [],
      "source": [
       "def evaluate_model(true, predicted):\n",
       "    mae = mean_absolute_error(true,predicted)\n",
       "    mse = mean_squared_error(true,predicted)\n",
       "    rmse = root_mean_squared_error(true,predicted)\n",
       "    r2 = r2_score(true, predicted)\n",
       "    return mae,mse,rmse,r2"
      ]
     },
     {
      "cell_type": "code",
      "execution_count": 79,
      "metadata": {},
      "outputs": [],
      "source": [
       "from sklearn.linear_model import LinearRegression, Lasso, Ridge\n",
       "from sklearn.neighbors import KNeighborsRegressor"
      ]
     },
     {
      "cell_type": "code",
      "execution_count": 107,
      "metadata": {},
      "outputs": [
       {
        "name": "stdout",
        "output_type": "stream",
        "text": [
         "Linear Regression\n",
         "Model performance for training set stud 1.csv\n",
         "Root Mean Squared Error: 5.3402\n",
         "- Mean Squared Error: 28.5176\n",
         "-Mean absolute Error: 4.2723\n",
         "-R Squared : 0.8735\n",
         " - Root Mean Squared Error: 5.3402\n",
         " - Mean Squared Error: 28.5176\n",
         " -Mean absolute Error: 4.2723\n",
         " -R Squared : 0.8735\n",
         "Lasso\n",
         "Model performance for training set stud 1.csv\n",
         "Root Mean Squared Error: 6.5938\n",
         "- Mean Squared Error: 43.4784\n",
         "-Mean absolute Error: 5.2063\n",
         "-R Squared : 0.8071\n",
         " - Root Mean Squared Error: 6.5938\n",
         " - Mean Squared Error: 43.4784\n",
         " -Mean absolute Error: 5.2063\n",
         " -R Squared : 0.8071\n",
         "Ridge\n",
         "Model performance for training set stud 1.csv\n",
         "Root Mean Squared Error: 5.3233\n",
         "- Mean Squared Error: 28.3378\n",
         "-Mean absolute Error: 4.2650\n",
         "-R Squared : 0.8743\n",
         " - Root Mean Squared Error: 5.3233\n",
         " - Mean Squared Error: 28.3378\n",
         " -Mean absolute Error: 4.2650\n",
         " -R Squared : 0.8743\n",
         "K-Neighbors\n",
         "Model performance for training set stud 1.csv\n",
         "Root Mean Squared Error: 5.7091\n",
         "- Mean Squared Error: 32.5934\n",
         "-Mean absolute Error: 4.5175\n",
         "-R Squared : 0.8554\n",
         " - Root Mean Squared Error: 5.7091\n",
         " - Mean Squared Error: 32.5934\n",
         " -Mean absolute Error: 4.5175\n",
         " -R Squared : 0.8554\n",
         "Random Forest Regressor\n",
         "Model performance for training set stud 1.csv\n",
         "Root Mean Squared Error: 2.2834\n",
         "- Mean Squared Error: 5.2138\n",
         "-Mean absolute Error: 1.8194\n",
         "-R Squared : 0.9769\n",
         " - Root Mean Squared Error: 2.2834\n",
         " - Mean Squared Error: 5.2138\n",
         " -Mean absolute Error: 1.8194\n",
         " -R Squared : 0.9769\n",
         "XGB\n",
         "Model performance for training set stud 1.csv\n",
         "Root Mean Squared Error: 1.0073\n",
         "- Mean Squared Error: 1.0146\n",
         "-Mean absolute Error: 0.6875\n",
         "-R Squared : 0.9955\n",
         " - Root Mean Squared Error: 1.0073\n",
         " - Mean Squared Error: 1.0146\n",
         " -Mean absolute Error: 0.6875\n",
         " -R Squared : 0.9955\n",
         "AdaBoostRegressor\n",
         "Model performance for training set stud 1.csv\n",
         "Root Mean Squared Error: 5.7557\n",
         "- Mean Squared Error: 33.1278\n",
         "-Mean absolute Error: 4.7102\n",
         "-R Squared : 0.8531\n",
         " - Root Mean Squared Error: 5.7557\n",
         " - Mean Squared Error: 33.1278\n",
         " -Mean absolute Error: 4.7102\n",
         " -R Squared : 0.8531\n"
        ]
       }
      ],
      "source": [
       "models = {\n",
       "    'Linear Regression' : LinearRegression(),\n",
       "    'Lasso': Lasso(),\n",
       "    'Ridge': Ridge(),\n",
       "    'K-Neighbors': KNeighborsRegressor(),\n",
       "    'Random Forest Regressor': RandomForestRegressor(),\n",
       "    'XGB': XGBRegressor(),\n",
       "    'AdaBoostRegressor': AdaBoostRegressor()\n",
       "\n",
       "\n",
       "}\n",
       "model_list = []\n",
       "r2_list = []\n",
       "\n",
       "for i in range(len(list(models))):\n",
       "    model = list(models.values())[i]\n",
       "    model.fit(X_train, y_train)\n",
       "\n",
       "    y_train_pred = model.predict(X_train)\n",
       "    y_test_pred = model.predict(X_test)\n",
       "\n",
       "    train_mae,train_mse, train_rmse, train_r2  = evaluate_model(y_train,y_train_pred)\n",
       "    test_mae, test_mse,test_rmse, test_r2  = evaluate_model(y_test,y_test_pred)\n",
       "\n",
       "    print (list(models.keys())[i])\n",
       "    model_list.append(list(models.keys())[i])\n",
       "\n",
       "    print ('Model performance for training set stud 1.csv')\n",
       "    print(\"Root Mean Squared Error: {:.4f}\".format(train_rmse))\n",
       "    print('- Mean Squared Error: {:.4f}'.format(train_mse))\n",
       "    print('-Mean absolute Error: {:.4f}'.format(train_mae))\n",
       "    print('-R Squared : {:.4f}'.format(train_r2))\n",
       "\n",
       "    print(' - Root Mean Squared Error: {:.4f}'.format(train_rmse))\n",
       "    print(' - Mean Squared Error: {:.4f}'.format(train_mse))\n",
       "    print(' -Mean absolute Error: {:.4f}'.format(train_mae))\n",
       "    print(' -R Squared : {:.4f}'.format(train_r2))\n",
       "\n"
      ]
     },
     {
      "cell_type": "code",
      "execution_count": null,
      "metadata": {},
      "outputs": [],
      "source": []
     },
     {
      "cell_type": "code",
      "execution_count": 92,
      "metadata": {},
      "outputs": [
       {
        "data": {
         "text/plain": [
          "(4.716298670799965, 33.327819177253346, 5.773025132220831, 0.8521703666879981)"
         ]
        },
        "execution_count": 92,
        "metadata": {},
        "output_type": "execute_result"
       }
      ],
      "source": [
       "train_mae,train_mse, train_rmse, train_r2"
      ]
     },
     {
      "cell_type": "code",
      "execution_count": 95,
      "metadata": {},
      "outputs": [
       {
        "data": {
         "text/plain": [
          "(4.67789550310005, 35.36820984926048, 5.947117776642773, 0.8546542187782098)"
         ]
        },
        "execution_count": 95,
        "metadata": {},
        "output_type": "execute_result"
       }
      ],
      "source": [
       " test_mae, test_mse,test_rmse, test_r2\n"
      ]
     },
     {
      "cell_type": "code",
      "execution_count": null,
      "metadata": {},
      "outputs": [],
      "source": [
       "X_train, X_test, y_train,y_test = train_test_split(X1,y,test_size=0.2, random_state=42)"
      ]
     },
     {
      "cell_type": "code",
      "execution_count": null,
      "metadata": {},
      "outputs": [],
      "source": []
     },
     {
      "cell_type": "code",
      "execution_count": null,
      "metadata": {},
      "outputs": [],
      "source": []
     },
     {
      "cell_type": "code",
      "execution_count": null,
      "metadata": {},
      "outputs": [],
      "source": []
     }
    ],
    "metadata": {
     "kernelspec": {
      "display_name": "venv",
      "language": "python",
      "name": "python3"
     },
     "language_info": {
      "codemirror_mode": {
       "name": "ipython",
       "version": 3
      },
      "file_extension": ".py",
      "mimetype": "text/x-python",
      "name": "python",
      "nbconvert_exporter": "python",
      "pygments_lexer": "ipython3",
      "version": "3.12.0"
     }
    },
    "nbformat": 4,
    "nbformat_minor": 2
   }
   